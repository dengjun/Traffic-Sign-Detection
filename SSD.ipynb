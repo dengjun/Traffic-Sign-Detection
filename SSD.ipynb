{
 "cells": [
  {
   "cell_type": "markdown",
   "metadata": {},
   "source": [
    "# Traffic sign detection with SSD"
   ]
  },
  {
   "cell_type": "code",
   "execution_count": 2,
   "metadata": {},
   "outputs": [
    {
     "name": "stdout",
     "output_type": "stream",
     "text": [
      "all module imported\n"
     ]
    }
   ],
   "source": [
    "import time\n",
    "import numpy as np\n",
    "import cv2\n",
    "import matplotlib as mpl\n",
    "import matplotlib.pyplot as plt\n",
    "\n",
    "import mxnet as mx\n",
    "import mxnet.image as image\n",
    "from mxnet import nd\n",
    "from mxnet.gluon import nn\n",
    "from mxnet import gluon\n",
    "from mxnet.contrib.ndarray import MultiBoxTarget\n",
    "from mxnet.contrib.ndarray import MultiBoxPrior\n",
    "\n",
    "print(\"all module imported\")"
   ]
  },
  {
   "cell_type": "markdown",
   "metadata": {},
   "source": [
    "# Load Data"
   ]
  },
  {
   "cell_type": "code",
   "execution_count": 5,
   "metadata": {},
   "outputs": [],
   "source": [
    "BATCH_SIZE = 16\n",
    "DATA_WIDTH = 1360\n",
    "DATA_HEIGHT = 800\n",
    "train_iter = mx.image.ImageIter(  \n",
    "   batch_size=BATCH_SIZE, label_width = 1,\n",
    "   data_shape=(3, DATA_HEIGHT, DATA_WIDTH),  \n",
    "   path_imgrec='./dataset/dataset.rec',  \n",
    "   path_imgidx='./dataset/dataset.idx',  #help shuffle performance\n",
    "   shuffle=True)\n",
    "\n",
    "batch = train_iter.next()"
   ]
  }
 ],
 "metadata": {
  "kernelspec": {
   "display_name": "Python 3",
   "language": "python",
   "name": "python3"
  },
  "language_info": {
   "codemirror_mode": {
    "name": "ipython",
    "version": 3
   },
   "file_extension": ".py",
   "mimetype": "text/x-python",
   "name": "python",
   "nbconvert_exporter": "python",
   "pygments_lexer": "ipython3",
   "version": "3.5.2"
  }
 },
 "nbformat": 4,
 "nbformat_minor": 2
}
